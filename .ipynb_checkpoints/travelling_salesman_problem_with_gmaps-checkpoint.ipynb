{
 "cells": [
  {
   "cell_type": "markdown",
   "metadata": {},
   "source": [
    "# Travelling Salesman Problem using Google Maps API"
   ]
  },
  {
   "cell_type": "markdown",
   "metadata": {},
   "source": [
    "### 1. Create namedtuple for the Route details\n",
    "start = postal code of origin<br>\n",
    "end = postal code of destination<br>\n",
    "distance = total distance from start to end (in meter)<br>\n",
    "steps = detailed steps from one point to next point and the distance of each step (will used to create PolyLine on the map)<br>\n",
    "orig_lat = origin latitude<br>\n",
    "orig_lng = origin longitude<br>\n",
    "dest_lat = destination latitude<br>\n",
    "dest_lng = destination longitude"
   ]
  },
  {
   "cell_type": "code",
   "execution_count": 244,
   "metadata": {},
   "outputs": [],
   "source": [
    "import pandas as pd\n",
    "import itertools\n",
    "import numpy as np\n",
    "import math\n",
    "import random\n",
    "import googlemaps\n",
    "from datetime import datetime\n",
    "from collections import namedtuple\n",
    "\n",
    "gmaps = googlemaps.Client(key='Enter Your Google Maps API Key')\n",
    "\n",
    "#create a named tuple for the routes\n",
    "Route=namedtuple('Route',['start','end','distance','steps','orig_lat','orig_lng','dest_lat','dest_lng'])"
   ]
  },
  {
   "cell_type": "markdown",
   "metadata": {},
   "source": [
    "### 2. 'make_route' functions to return the 'Route' namedtuple"
   ]
  },
  {
   "cell_type": "code",
   "execution_count": 132,
   "metadata": {},
   "outputs": [],
   "source": [
    "#function to make the 'Route' namedtuple\n",
    "def make_route(start,end,distance,steps,orig_lat,orig_lng,dest_lat,dest_lng):\n",
    "    return Route(start,end,distance,steps,orig_lat,orig_lng,dest_lat,dest_lng)"
   ]
  },
  {
   "cell_type": "markdown",
   "metadata": {},
   "source": [
    "### 3. This is how the API output looks like\n",
    "Different types of mode of transport: 'driving', 'walking', 'bicycling', 'transit'"
   ]
  },
  {
   "cell_type": "markdown",
   "metadata": {},
   "source": [
    "<img src=\"gmaps_api_result.png\">"
   ]
  },
  {
   "cell_type": "markdown",
   "metadata": {},
   "source": [
    "### 4. 'get_directions' function to return the API results. This will be used as inputs to 'make_route' function"
   ]
  },
  {
   "cell_type": "code",
   "execution_count": 131,
   "metadata": {},
   "outputs": [],
   "source": [
    "#function to return the API results\n",
    "def get_directions(origin,dest):\n",
    "    directions_result = gmaps.directions(origin,\n",
    "                                     dest,\n",
    "                                     mode=\"driving\",\n",
    "                                     departure_time=datetime.now())\n",
    "    distance=directions_result[0]['legs'][0]['distance']['value'] #total distance from origin to destination\n",
    "    orig_lat=directions_result[0]['legs'][0]['start_location']['lat'] #origin latitude\n",
    "    orig_lng=directions_result[0]['legs'][0]['start_location']['lng'] #origin longitude\n",
    "    dest_lat=directions_result[0]['legs'][0]['end_location']['lat'] #destination latitude\n",
    "    dest_lng=directions_result[0]['legs'][0]['end_location']['lng'] #destination longitude\n",
    "    \n",
    "    #'steps' to be returned as a list that contains two coordinates, point 1 and point 2, and also the distance (in meter) between these two points\n",
    "    steps=[]\n",
    "    for i in range(len(directions_result[0]['legs'][0]['steps'])):\n",
    "        start_pos=[directions_result[0]['legs'][0]['steps'][i]['start_location']['lat'],directions_result[0]['legs'][0]['steps'][i]['start_location']['lng']]\n",
    "        end_pos=[directions_result[0]['legs'][0]['steps'][i]['end_location']['lat'],directions_result[0]['legs'][0]['steps'][i]['end_location']['lng']]\n",
    "        step_pos=[start_pos,end_pos] #two coordinates of point 1 and point 2\n",
    "        step_distance=directions_result[0]['legs'][0]['steps'][i]['distance']['value'] #distance between the two points\n",
    "        steps.append((step_pos,step_distance)) #append to the 'steps' list\n",
    "        \n",
    "    return origin,dest,distance,steps,orig_lat,orig_lng,dest_lat,dest_lng\n",
    "    "
   ]
  },
  {
   "cell_type": "markdown",
   "metadata": {},
   "source": [
    "### 5. Construct a 'Graph' class with 'address' and 'routes' as the class attributes\n",
    "* The 'address' will be in a list of postal codes. 'Singapore ' is added in front of each address to make sure that Google Maps API will return the correct locations in Singapore\n",
    "\n",
    "* Get all the possible routes between 2 points where **order matters** (a.k.a permutations) using itertools.permutations. \n",
    "Number of permutations is:"
   ]
  },
  {
   "cell_type": "markdown",
   "metadata": {},
   "source": [
    " \n",
    "$$nPk=\\frac{n!}{(n-k)!}$$\n"
   ]
  },
  {
   "cell_type": "markdown",
   "metadata": {},
   "source": [
    "* 'routes' will be list of namedtuple 'Route' for all the possible permutations.\n",
    "* If the users enter new list of postal codes ('address'), 'add_route' function will call Google Maps API only for the new addresses that are not yet in 'routes' and append the new routes to existing 'routes'. \n",
    "* 'totaldistancetour' function is to calculate the total distance of a given 'tour' <br>\n",
    ">**example:** <br>\n",
    "'tour' is given as below:<br>\n",
    "a -> b -> c -> d -> a<br><br>\n",
    "the function will return total distance that is the sum of the following:<br>\n",
    "distance from a -> b<br>\n",
    "distance from b -> c<br>\n",
    "distance from c -> d<br>\n",
    "distance from d -> a (return back to origin)"
   ]
  },
  {
   "cell_type": "markdown",
   "metadata": {},
   "source": [
    "### 6. Brute Force Method\n",
    "Loop through all the possible tours and get the total distance. The best tour is the one with the shortest total distance.\n",
    "\n",
    "### 7. Simulated Annealing Method\n",
    "* It is inspired by annealing process in metal work. Temperature of solid metal is increased until it melts then cooled carefully.\n",
    "\n",
    "#### Algorithm\n",
    "1. Assign a high initial value of temperature then slowly decrease.\n",
    "2. It will more frequently accept solutions which are worse than our current solution as long as temperature variable is still high.\n",
    "3. By doing this, we allow the algorithm to jump out of any local optimum.\n",
    "4. The chance of accepting worse solutions will reduce as the temperature is reduced.\n",
    "5. It will slowly allow the algorithm to focus on area of the search space in which a close to optimum solution can be found.\n",
    "\n",
    "#### How to decide which solutions to accept\n",
    "1. If the neighbour solution is better than our current solution, accept it.\n",
    "2. If the neighbour solution is worse, consider these 2 factors: how much worse it is and how high the current temperature is.\n"
   ]
  },
  {
   "cell_type": "markdown",
   "metadata": {},
   "source": [
    "$$P = exp (\\frac{currentsolution - neigbour}{temperature})$$"
   ]
  },
  {
   "cell_type": "markdown",
   "metadata": {},
   "source": [
    "P will be accepted if it is greater than random.random() that will return any random float between 0.0 and 1.0. \n",
    "Therefore, the smaller the change between current and neighbour & the higher the temperature, more likely it is to accept the solution.\n",
    "<br><br>\n",
    "Since simulated annealing algorithm only returns the value close to minimum solution, it is better to repeat the process several times and compare the results to find the best solution."
   ]
  },
  {
   "cell_type": "code",
   "execution_count": 238,
   "metadata": {},
   "outputs": [],
   "source": [
    "class Graph:\n",
    "    def __init__(self,address):\n",
    "        #add 'Singapore' to the postal code\n",
    "        self.address=['Singapore '+a for a in address]\n",
    "        \n",
    "        #find all the possible route permutations\n",
    "        combination=list(itertools.permutations(self.address,2))\n",
    "        \n",
    "        #make routes that consist of start, end, distance\n",
    "        self.routes=[make_route(i[0],i[1],get_directions(i[0],i[1])[2],get_directions(i[0],i[1])[3],\n",
    "                               get_directions(i[0],i[1])[4],get_directions(i[0],i[1])[5],\n",
    "                               get_directions(i[0],i[1])[6],get_directions(i[0],i[1])[7]) for i in combination]\n",
    "    \n",
    "    #function to add new routes and append them to self.routes\n",
    "    def add_route(self,address):\n",
    "        self.address=['Singapore '+a for a in address]\n",
    "        combination=list(itertools.permutations(self.address,2))\n",
    "        for new_route in combination:\n",
    "            if new_route in [(route.start,route.end) for route in self.routes]:\n",
    "                pass\n",
    "            else:\n",
    "                self.routes.append(Route(new_route[0],new_route[1],\n",
    "                                         get_directions(new_route[0],new_route[1])[2],get_directions(new_route[0],new_route[1])[3],\n",
    "                                         get_directions(new_route[0],new_route[1])[4],get_directions(new_route[0],new_route[1])[5],\n",
    "                                         get_directions(new_route[0],new_route[1])[6],get_directions(new_route[0],new_route[1])[7]))\n",
    "    \n",
    "    #find the total distance for specific tour\n",
    "    def totaldistancetour(self,tour):\n",
    "        d=0\n",
    "        for i in range(1,len(tour)):\n",
    "            origin=self.test_address[tour[i-1]]\n",
    "            dest=self.test_address[tour[i]]\n",
    "            distance=[route.distance for route in self.routes if (route.start==origin and route.end==dest)][0]\n",
    "            d=d+distance\n",
    "        origin=self.test_address[tour[len(tour)-1]]\n",
    "        dest=self.test_address[tour[0]]\n",
    "        distance=[route.distance for route in self.routes if (route.start==origin and route.end==dest)][0]\n",
    "        d=d+distance\n",
    "        return d\n",
    "    \n",
    "    #brute force method to find the shortest tour\n",
    "    def tsp_brute_force_gmaps(self,test_address):\n",
    "        '''\n",
    "        this is brute force method to find the best tour with the shortest total distance. \n",
    "        It finds all the possible tours and find the one with the shortest distance.\n",
    "        '''\n",
    "        \n",
    "        #to add the tested routes to self.routes if they do not exist\n",
    "        self.add_route(test_address)\n",
    "        self.test_address=['Singapore '+a for a in test_address]\n",
    "        n=len(self.test_address)\n",
    "        \n",
    "        #get a randomized n-length list of integers between 0 and (n-1).\n",
    "        tour=random.sample(range(n),n)\n",
    "        \n",
    "        #get all the possible tours using permutations\n",
    "        allpossibletour=list(itertools.permutations(tour))\n",
    "        \n",
    "        #initialize the best distance=1000000, we will need to find a distance shorter than this\n",
    "        lbest=1000000\n",
    "        \n",
    "        #initialize the best tour \n",
    "        ibest=tour\n",
    "        \n",
    "        #find the total distance for each possible tour and get the shortest one\n",
    "        for i in range(len(allpossibletour)):\n",
    "            l=self.totaldistancetour(allpossibletour[i])\n",
    "            if l < lbest:\n",
    "                lbest=l\n",
    "                ibest=allpossibletour[i]                \n",
    "        \n",
    "        return ibest,lbest\n",
    "    \n",
    "    #using simulated annealing \n",
    "    def tsp_anneal_gmaps(self,test_address):\n",
    "        self.test_address=['Singapore '+ a for a in test_address]\n",
    "        n=len(self.test_address)\n",
    "        tour=random.sample(range(n),n)\n",
    "        for temperature in np.logspace(0,5,num=10000)[::-1]:\n",
    "            oldDistance=self.totaldistancetour(tour)\n",
    "            \n",
    "            #get two random indexes to swap with each other\n",
    "            [i,j]=sorted(random.sample(range(n),2)) \n",
    "            \n",
    "            #do the swap between the two random indexes\n",
    "            newTour=tour[:i]+tour[j:j+1]+tour[i+1:j]+tour[i:i+1] + tour[j+1:]\n",
    "            \n",
    "            #find the total distance of the new tour\n",
    "            newDistance=self.totaldistancetour(newTour)\n",
    "            \n",
    "            #if it meets the equation, the new tour will be accepted\n",
    "            if math.exp((oldDistance-newDistance)/temperature)>random.random():\n",
    "                tour=newTour.copy()\n",
    "            return tour,self.totaldistancetour(tour)\n",
    "    \n",
    "    def repeated_tsp_anneal(self,test_address):\n",
    "        picked_route=''\n",
    "        best_distance=1000000\n",
    "        \n",
    "        #repeat anneal algorithm for 100 times to find the best solution\n",
    "        for i in range(100):\n",
    "            distance=self.tsp_anneal_gmaps(address)[1]\n",
    "            if distance<best_distance:\n",
    "                best_distance=distance\n",
    "                picked_route=self.tsp_anneal_gmaps(address)[0]\n",
    "        return picked_route,distance"
   ]
  },
  {
   "cell_type": "markdown",
   "metadata": {},
   "source": [
    "### 8. Get the best tour/route and find the steps to be taken when going to one point to the next point. This is used to create PolyLine on the map."
   ]
  },
  {
   "cell_type": "code",
   "execution_count": 242,
   "metadata": {},
   "outputs": [],
   "source": [
    "def get_steps(instance_name,method):\n",
    "    steps=[]\n",
    "    routes=instance_name.routes\n",
    "    if method=='brute_force':\n",
    "        best_route=instance_name.tsp_brute_force_gmaps(address)\n",
    "        print(best_route)\n",
    "    else:\n",
    "        best_route=instance_name.repeated_tsp_anneal(address)\n",
    "        print(best_route)\n",
    "    for i in range(1,len(best_route[0])):\n",
    "        origin='Singapore '+address[best_route[0][i-1]]\n",
    "        dest='Singapore '+address[best_route[0][i]]\n",
    "        \n",
    "        #get the steps when going to one point to the next and append it to 'steps' list\n",
    "        step=[route.steps for route in routes if (route.start==origin and route.end==dest)]\n",
    "        steps.append(step)\n",
    "    \n",
    "    #get the steps from the destination to the origin\n",
    "    origin='Singapore '+address[best_route[0][len(best_route[0])-1]]\n",
    "    dest='Singapore '+address[best_route[0][0]]\n",
    "    step=[route.steps for route in routes if (route.start==origin and route.end==dest)]\n",
    "    steps.append(step)\n",
    "    return steps,best_route\n",
    "    #return [s[i][0][j][0] for i in range(len(s)) for j in range(len(s[i][0]))]\n"
   ]
  },
  {
   "cell_type": "markdown",
   "metadata": {},
   "source": [
    "### 9. Create a function to return the coordinates based on the address (postal code) as the input"
   ]
  },
  {
   "cell_type": "code",
   "execution_count": 246,
   "metadata": {},
   "outputs": [],
   "source": [
    "#create function to return the coordinates of an address (postal code)\n",
    "def get_lat_lng(postal_code,route):\n",
    "    for route in route.routes:\n",
    "        if postal_code in route.start:\n",
    "            pos=route.orig_lat,route.orig_lng\n",
    "            break\n",
    "    return pos"
   ]
  },
  {
   "cell_type": "markdown",
   "metadata": {},
   "source": [
    "### 10. Find the longest sub-step for each step. This will be the line where arrow will be drawn."
   ]
  },
  {
   "cell_type": "code",
   "execution_count": 249,
   "metadata": {},
   "outputs": [],
   "source": [
    "def get_arrow_point(steps):\n",
    "    max_route=[]\n",
    "    for i in range(len(steps)):\n",
    "        step_distance=[]\n",
    "        for j in range(len(steps[i][0])):\n",
    "            step_distance.append(steps[i][0][j][1])\n",
    "        #find the index of step with the longest distance\n",
    "        max_index=[a for a, b in enumerate(step_distance) if b == max(step_distance)][0]\n",
    "        max_route.append(steps[i][0][max_index][0])\n",
    "    return max_route"
   ]
  },
  {
   "cell_type": "markdown",
   "metadata": {},
   "source": [
    "### 11. Functions to calculate the bearing between two different points. This is used to draw the arrow.\n",
    "'get_bearing' and 'get_arrows' functions from this article: https://medium.com/@bobhaffner/folium-lines-with-arrows-25a0fe88e4e"
   ]
  },
  {
   "cell_type": "code",
   "execution_count": 299,
   "metadata": {},
   "outputs": [],
   "source": [
    "def get_bearing(p1, p2):\n",
    "    \n",
    "    '''\n",
    "    Returns compass bearing from p1 to p2\n",
    "    \n",
    "    Parameters\n",
    "    p1 : namedtuple with lat lon\n",
    "    p2 : namedtuple with lat lon\n",
    "    \n",
    "    Return\n",
    "    compass bearing of type float\n",
    "    \n",
    "    Notes\n",
    "    Link to the article: https://medium.com/@bobhaffner/folium-lines-with-arrows-25a0fe88e4e\n",
    "    Based on https://gist.github.com/jeromer/2005586\n",
    "    '''\n",
    "    \n",
    "    long_diff = np.radians(p2.lon - p1.lon)\n",
    "    \n",
    "    lat1 = np.radians(p1.lat)\n",
    "    lat2 = np.radians(p2.lat)\n",
    "    \n",
    "    x = np.sin(long_diff) * np.cos(lat2)\n",
    "    y = (np.cos(lat1) * np.sin(lat2) \n",
    "        - (np.sin(lat1) * np.cos(lat2) \n",
    "        * np.cos(long_diff)))\n",
    "    bearing = np.degrees(np.arctan2(x, y))\n",
    "    \n",
    "    # adjusting for compass bearing\n",
    "    if bearing < 0:\n",
    "        return bearing + 360\n",
    "    return bearing"
   ]
  },
  {
   "cell_type": "code",
   "execution_count": 300,
   "metadata": {},
   "outputs": [],
   "source": [
    "def get_arrows(locations, color='blue', size=6, n_arrows=3):\n",
    "    \n",
    "    '''\n",
    "    Get a list of correctly placed and rotated \n",
    "    arrows/markers to be plotted\n",
    "    \n",
    "    Parameters\n",
    "    locations : list of lists of lat lons that represent the \n",
    "                start and end of the line. \n",
    "                eg [[41.1132, -96.1993],[41.3810, -95.8021]]\n",
    "    arrow_color : default is 'blue'\n",
    "    size : default is 6\n",
    "    n_arrows : number of arrows to create.  default is 3\n",
    "    Return\n",
    "    list of arrows/markers\n",
    "    \n",
    "    Note\n",
    "    Link to the article: https://medium.com/@bobhaffner/folium-lines-with-arrows-25a0fe88e4e\n",
    "    '''\n",
    "    \n",
    "    Point = namedtuple('Point', field_names=['lat', 'lon'])\n",
    "    \n",
    "    # creating point from our Point named tuple\n",
    "    p1 = Point(locations[0][0], locations[0][1])\n",
    "    p2 = Point(locations[1][0], locations[1][1])\n",
    "    \n",
    "    # getting the rotation needed for our marker.  \n",
    "    # Subtracting 90 to account for the marker's orientation\n",
    "    # of due East(get_bearing returns North)\n",
    "    rotation = get_bearing(p1, p2) - 90\n",
    "    \n",
    "    # get an evenly space list of lats and lons for our arrows\n",
    "    # note that I'm discarding the first and last for aesthetics\n",
    "    # as I'm using markers to denote the start and end\n",
    "    arrow_lats = np.linspace(p1.lat, p2.lat, n_arrows + 2)[1:n_arrows+1]\n",
    "    arrow_lons = np.linspace(p1.lon, p2.lon, n_arrows + 2)[1:n_arrows+1]\n",
    "    \n",
    "    arrows = []\n",
    "    \n",
    "    #creating each \"arrow\" and appending them to our arrows list\n",
    "    for points in zip(arrow_lats, arrow_lons):\n",
    "        arrows.append(folium.RegularPolygonMarker(location=points, \n",
    "                      fill_color=color, number_of_sides=3, \n",
    "                      radius=size, rotation=rotation).add_to(map))\n",
    "    return arrows"
   ]
  },
  {
   "cell_type": "markdown",
   "metadata": {},
   "source": [
    "### 12. Create a function to visualize the route in map"
   ]
  },
  {
   "cell_type": "code",
   "execution_count": 311,
   "metadata": {},
   "outputs": [],
   "source": [
    "import folium\n",
    "from folium.features import DivIcon\n",
    "\n",
    "def visualize_route(method,address,route):\n",
    "    #create a new map\n",
    "    map = folium.Map(location=get_lat_lng(address[1],route),tiles=\"cartodbpositron\",zoom_start=12,width=1200,height=600)\n",
    "\n",
    "    #add markers on the folium map\n",
    "    for i in range(0,len(address)):\n",
    "        marker=folium.Marker(location=[get_lat_lng(address[i],route)[0],get_lat_lng(address[i],route)[1]],\n",
    "                             popup=address[i]\n",
    "                            ).add_to(map)\n",
    "     \n",
    "    get_steps_result=get_steps(route,method)\n",
    "    #get the steps and step distance of the best_route\n",
    "    steps=get_steps_result[0]\n",
    "    steps=[steps[i][0][j][0] for i in range(len(steps)) for j in range(len(steps[i][0]))]\n",
    "    \n",
    "    #get the best route and total distance\n",
    "    best_route=get_steps_result[1]\n",
    "    \n",
    "    #draw the PolyLine for each step\n",
    "    folium.PolyLine(steps,color=\"red\", weight=2.5, opacity=1).add_to(map)\n",
    "    \n",
    "    #draw arrow for the longest step distance\n",
    "    for arrow_point in get_arrow_point(get_steps_result[0]):\n",
    "        get_arrows(locations=arrow_point, n_arrows=1)[0].add_to(map)\n",
    "    \n",
    "    #add numbers to show the sequence of the route\n",
    "    for i in range(1,len(best_route[0])+1):\n",
    "        point=get_lat_lng(address[best_route[0][i-1]],route)\n",
    "        folium.map.Marker(\n",
    "            [point[0],point[1]],\n",
    "            icon=DivIcon(\n",
    "                icon_size=(150,36),\n",
    "                icon_anchor=(0,65),\n",
    "                html='<div style=\"font-size: 12pt\">'+str(i)+'</div>',\n",
    "                )\n",
    "            ).add_to(map)\n",
    "\n",
    "    display(map)"
   ]
  },
  {
   "cell_type": "code",
   "execution_count": 227,
   "metadata": {},
   "outputs": [],
   "source": [
    "address=['596569',\n",
    "         '118733',\n",
    "         '456532',\n",
    "         '380119']\n",
    "\n",
    "route=Graph(address)"
   ]
  },
  {
   "cell_type": "code",
   "execution_count": 312,
   "metadata": {},
   "outputs": [
    {
     "name": "stdout",
     "output_type": "stream",
     "text": [
      "([3, 0, 1, 2], 54919)\n"
     ]
    },
    {
     "data": {
      "text/html": [
       "<div style=\"width:100%;\"><div style=\"position:relative;width:100%;height:0;padding-bottom:60%;\"><iframe src=\"data:text/html;charset=utf-8;base64,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\" style=\"position:absolute;width:100%;height:100%;left:0;top:0;border:none !important;\" allowfullscreen webkitallowfullscreen mozallowfullscreen></iframe></div></div>"
      ],
      "text/plain": [
       "<folium.folium.Map at 0x1199a4e10>"
      ]
     },
     "metadata": {},
     "output_type": "display_data"
    }
   ],
   "source": [
    "visualize_route('anneal',address,route)"
   ]
  },
  {
   "cell_type": "markdown",
   "metadata": {},
   "source": [
    "Sample result:\n",
    "<img src=\"sample_map_result.png\">"
   ]
  },
  {
   "cell_type": "code",
   "execution_count": null,
   "metadata": {},
   "outputs": [],
   "source": []
  }
 ],
 "metadata": {
  "kernelspec": {
   "display_name": "Python 3",
   "language": "python",
   "name": "python3"
  },
  "language_info": {
   "codemirror_mode": {
    "name": "ipython",
    "version": 3
   },
   "file_extension": ".py",
   "mimetype": "text/x-python",
   "name": "python",
   "nbconvert_exporter": "python",
   "pygments_lexer": "ipython3",
   "version": "3.6.4"
  }
 },
 "nbformat": 4,
 "nbformat_minor": 2
}
